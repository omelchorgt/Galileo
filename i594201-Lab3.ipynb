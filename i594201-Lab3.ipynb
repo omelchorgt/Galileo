{
 "cells": [
  {
   "cell_type": "code",
   "execution_count": null,
   "id": "5a949a32-82c1-44ab-a81e-df631f83e6c7",
   "metadata": {
    "tags": []
   },
   "outputs": [],
   "source": [
    "#Oscar A. Melchor A. i594201\n",
    "#Lab3 Inciso 1\n",
    "#Procedimiento en Python para convertir de entero a binario\n",
    "#\n",
    "def IntABin():\n",
    "    valor = int(input(\"Ingrese el numero decimal a representar en binario:\\n\"))\n",
    "    binario = []\n",
    "    binario.clear\n",
    "\n",
    "    while (valor > 0):\n",
    "        if(valor/2.0) > (valor // 2):\n",
    "            binario.append('1')\n",
    "        else:\n",
    "            binario.append('0')\n",
    "        valor = (valor // 2)\n",
    "\n",
    "    contador = (len(binario))\n",
    "    binaria = \"\"\n",
    "\n",
    "    while contador > 0: \n",
    "        binaria = (binaria + binario[contador-1])\n",
    "        contador = contador -1\n",
    "\n",
    "    print(f'el código binario es ', binaria)\n",
    "   \n",
    "\n",
    "IntABin()"
   ]
  },
  {
   "cell_type": "code",
   "execution_count": 15,
   "id": "ac89147a-31f4-4c33-9b67-278b7cf1ece8",
   "metadata": {},
   "outputs": [
    {
     "name": "stdin",
     "output_type": "stream",
     "text": [
      "Ingrese el numero a evaluar:\n",
      " 1\n"
     ]
    },
    {
     "name": "stdout",
     "output_type": "stream",
     "text": [
      "el número 1 SI es primo\n"
     ]
    }
   ],
   "source": [
    "#Oscar A. Melchor A. i594201\n",
    "#Lab3\n",
    "\n",
    "#Inciso 2\n",
    "#Funcion en Python para saber si un numero es primo\n",
    "\n",
    "def esprimo(num):\n",
    "    cont = num\n",
    "    primo = True\n",
    "    cadena = 'el número ' + str(num)\n",
    "    while cont > 1:\n",
    "        if (((num % cont) == 0) and (num != cont)):\n",
    "            primo = False\n",
    "            break\n",
    "        cont = (cont - 1)\n",
    "    \n",
    "    if primo == True:\n",
    "        cadena = cadena + ' SI es primo'\n",
    "    else:\n",
    "        cadena = cadena + ' NO es primo'\n",
    "    \n",
    "    return (cadena)\n",
    "\n",
    "num = int(input(\"Ingrese el numero a evaluar:\\n\"))\n",
    "valida = esprimo(num)\n",
    "print(valida)\n",
    "\n",
    "\n"
   ]
  },
  {
   "cell_type": "code",
   "execution_count": 16,
   "id": "32c67990-cb0b-48ca-9da5-66f7d5d3a16e",
   "metadata": {},
   "outputs": [
    {
     "name": "stdin",
     "output_type": "stream",
     "text": [
      "Ingrese el numero a agregar o NO numerico para salir :\n",
      " 1\n"
     ]
    },
    {
     "name": "stdout",
     "output_type": "stream",
     "text": [
      "Ha ingresado  [1.0]\n"
     ]
    },
    {
     "name": "stdin",
     "output_type": "stream",
     "text": [
      "Ingrese el numero a agregar o NO numerico para salir :\n",
      " 2\n"
     ]
    },
    {
     "name": "stdout",
     "output_type": "stream",
     "text": [
      "Ha ingresado  [1.0, 2.0]\n"
     ]
    },
    {
     "name": "stdin",
     "output_type": "stream",
     "text": [
      "Ingrese el numero a agregar o NO numerico para salir :\n",
      " 3\n"
     ]
    },
    {
     "name": "stdout",
     "output_type": "stream",
     "text": [
      "Ha ingresado  [1.0, 2.0, 3.0]\n"
     ]
    },
    {
     "name": "stdin",
     "output_type": "stream",
     "text": [
      "Ingrese el numero a agregar o NO numerico para salir :\n",
      " 4\n"
     ]
    },
    {
     "name": "stdout",
     "output_type": "stream",
     "text": [
      "Ha ingresado  [1.0, 2.0, 3.0, 4.0]\n"
     ]
    },
    {
     "name": "stdin",
     "output_type": "stream",
     "text": [
      "Ingrese el numero a agregar o NO numerico para salir :\n",
      " .\n"
     ]
    },
    {
     "name": "stdout",
     "output_type": "stream",
     "text": [
      " \n",
      "Ingresó : [1.0, 2.0, 3.0, 4.0]\n",
      "Totalizan : 10.0  Conteo : 4 Promedio : 2.5\n",
      "Varianza :  1.25  Desviación Estandar :  1.118033988749895\n"
     ]
    }
   ],
   "source": [
    "#Oscar A. Melchor A. i594201\n",
    "#Lab3\n",
    "\n",
    "#Inciso 3\n",
    "#Procedimiento que calcule desviación estandar\n",
    "\n",
    "num = 0\n",
    "numeros =[]\n",
    "numeros.clear\n",
    "\n",
    "while True:\n",
    "    try:\n",
    "        num = float(input(\"Ingrese el numero a agregar o NO numerico para salir :\\n\"))\n",
    "        numeros.append(num)\n",
    "        print('Ha ingresado ',numeros)\n",
    "        \n",
    "    except ValueError:\n",
    "        break\n",
    "\n",
    "ingresados = (len(numeros))\n",
    "acumulado = 0\n",
    "i = ingresados\n",
    "\n",
    "while i > 0: \n",
    "    acumulado = (acumulado + numeros[i-1])\n",
    "    i = (i-1)\n",
    "\n",
    "promedio = (acumulado/ingresados)\n",
    "\n",
    "i = ingresados\n",
    "varianza = 0\n",
    "\n",
    "while i > 0: \n",
    "    varianza = varianza + ((numeros[i-1]-promedio)**2)\n",
    "    i = (i-1)\n",
    "\n",
    "varianza = (varianza/ingresados)\n",
    "de = varianza**(1/2)\n",
    "\n",
    "print(' ')\n",
    "print('Ingresó :',numeros)\n",
    "print('Totalizan :',acumulado,' Conteo :',ingresados, 'Promedio :',promedio, )\n",
    "print('Varianza : ',varianza,' Desviación Estandar : ', de)\n"
   ]
  },
  {
   "cell_type": "code",
   "execution_count": 3,
   "id": "9884a658-9361-4adf-9597-b415c0687c56",
   "metadata": {},
   "outputs": [
    {
     "name": "stdin",
     "output_type": "stream",
     "text": [
      "Ingrese el numero a agregar o NO numerico para salir :\n",
      " 5\n"
     ]
    },
    {
     "name": "stdout",
     "output_type": "stream",
     "text": [
      "Ha ingresado  [5.0]\n"
     ]
    },
    {
     "name": "stdin",
     "output_type": "stream",
     "text": [
      "Ingrese el numero a agregar o NO numerico para salir :\n",
      " 1\n"
     ]
    },
    {
     "name": "stdout",
     "output_type": "stream",
     "text": [
      "Ha ingresado  [5.0, 1.0]\n"
     ]
    },
    {
     "name": "stdin",
     "output_type": "stream",
     "text": [
      "Ingrese el numero a agregar o NO numerico para salir :\n",
      " 3\n"
     ]
    },
    {
     "name": "stdout",
     "output_type": "stream",
     "text": [
      "Ha ingresado  [5.0, 1.0, 3.0]\n"
     ]
    },
    {
     "name": "stdin",
     "output_type": "stream",
     "text": [
      "Ingrese el numero a agregar o NO numerico para salir :\n",
      " .\n"
     ]
    },
    {
     "name": "stdout",
     "output_type": "stream",
     "text": [
      "\n",
      "Ingresó la cadena : [5.0, 1.0, 3.0]\n",
      "Ahora ordenada con el ordenamiento burbuja es : [1.0, 3.0, 5.0]\n"
     ]
    }
   ],
   "source": [
    "#Oscar A. Melchor A. i594201\n",
    "#Lab3\n",
    "\n",
    "#Inciso 4\n",
    "#funcion ordenamiento Burbuja\n",
    "\n",
    "num = 0\n",
    "numeros =[]\n",
    "numeros.clear\n",
    "\n",
    "def OrdenBurbuja(numeros):        \n",
    "    ingresados = (len(numeros))\n",
    "\n",
    "    pri = 0\n",
    "    seg = 0\n",
    "    j = 0\n",
    "    j = ingresados\n",
    "    while j > 0:\n",
    "        i = 0\n",
    "        while (i <= (ingresados-2)):\n",
    "            if numeros[i]>numeros[i+1]:\n",
    "                pri = numeros[i]\n",
    "                seg = numeros[i+1]\n",
    "                numeros[i] = seg\n",
    "                numeros[i+1] = pri\n",
    "            i += 1\n",
    "        j = j -1 \n",
    "    return(numeros)\n",
    "    \n",
    "while True:\n",
    "    try:\n",
    "        num = float(input(\"Ingrese el numero a agregar o NO numerico para salir :\\n\"))\n",
    "        numeros.append(num)\n",
    "        print('Ha ingresado ',numeros)\n",
    "        \n",
    "    except ValueError:\n",
    "        break\n",
    "\n",
    "cadena = ''\n",
    "print('')\n",
    "print('Ingresó la cadena :', numeros)\n",
    "\n",
    "cadena = OrdenBurbuja(numeros) #llama la funcion OrdenBurbuja\n",
    "\n",
    "print('Ahora ordenada con el ordenamiento burbuja es :',cadena)\n",
    "\n"
   ]
  },
  {
   "cell_type": "code",
   "execution_count": 1,
   "id": "3d12aaf3-e5bd-483d-b849-625beb7ab16d",
   "metadata": {},
   "outputs": [
    {
     "name": "stdin",
     "output_type": "stream",
     "text": [
      "Ingrese el valor a agregar o ### para salir :\n",
      " 5\n",
      "Ingrese el valor a agregar o ### para salir :\n",
      " 4\n",
      "Ingrese el valor a agregar o ### para salir :\n",
      " 3\n",
      "Ingrese el valor a agregar o ### para salir :\n",
      " ###\n"
     ]
    },
    {
     "name": "stdout",
     "output_type": "stream",
     "text": [
      "\n",
      "ingresó los valores :  ('5', '4', '3', '###')\n",
      "y se transformaron a :  543###\n"
     ]
    }
   ],
   "source": [
    "#Oscar A. Melchor A. i594201\n",
    "#Lab3\n",
    "\n",
    "#Inciso 5\n",
    "#Funcion en Python para convertir tupla en string\n",
    "\n",
    "fila = []\n",
    "fila.clear\n",
    "tupla = ()\n",
    "valor = ''\n",
    "\n",
    "def ConcatFromTuple(tupla):\n",
    "    a = ''\n",
    "    cad = ''\n",
    "    for a in tupla:\n",
    "        cad = cad + a\n",
    "    return(cad)\n",
    "\n",
    "while valor != '###':\n",
    "    valor = input(\"Ingrese el valor a agregar o ### para salir :\\n\")\n",
    "    fila.append(valor)\n",
    "    \n",
    "tupla = tuple(fila)\n",
    "\n",
    "cadena = ConcatFromTuple(tupla)\n",
    "\n",
    "print('')\n",
    "print('ingresó los valores : ',tupla)\n",
    "print('y se transformaron a : ', cadena)"
   ]
  },
  {
   "cell_type": "code",
   "execution_count": 2,
   "id": "f44967af-479a-4f34-ad86-7b3bb43c4eb8",
   "metadata": {},
   "outputs": [
    {
     "name": "stdout",
     "output_type": "stream",
     "text": [
      "[('abc', 123, '#1$')]\n"
     ]
    }
   ],
   "source": [
    "#Oscar A. Melchor A. i594201\n",
    "#Lab3\n",
    "\n",
    "#Inciso 6\n",
    "#Funcion en Python para eliminar tuplas vacias\n",
    "\n",
    "\n",
    "def remove(tuples):\n",
    "    tuples = [t for t in tuples if t]\n",
    "    return tuples\n",
    "\n",
    "tuples = [(),('abc',123,'#1$'),()]\n",
    "print(remove(tuples))\n",
    "\n"
   ]
  },
  {
   "cell_type": "code",
   "execution_count": 19,
   "id": "ca61e548-1e2f-409a-b1a3-2db9408abf1e",
   "metadata": {},
   "outputs": [
    {
     "name": "stdout",
     "output_type": "stream",
     "text": [
      "Se ingresaron los valores  ((10, 10, 10, 12), (30, 45, 56, 45), (81, 80, 39, 32))\n",
      "Los promedios son :  [10.5, 44.0, 58.0]\n"
     ]
    }
   ],
   "source": [
    "#Oscar A. Melchor A. i594201\n",
    "#Lab3\n",
    "\n",
    "#Inciso 7\n",
    "#Funcion en Python para calcular el promedio de los valores en cada\n",
    "\n",
    "def PromTupla(tupla):\n",
    "    salida = []\n",
    "    for valor in tupla:\n",
    "        total = 0\n",
    "        cadena = 0\n",
    "        for i in valor:\n",
    "            total = total + i\n",
    "        cadena = cadena + total/len(valor)\n",
    "        salida.append(cadena)\n",
    "    return(salida)\n",
    "\n",
    "#parametro input para la funcion\n",
    "mitupla = ((10,10,10,12),(30,45,56,45),(81,80,39,32))\n",
    "\n",
    "#llama la funcion\n",
    "salidatupla = (PromTupla(mitupla)) \n",
    "\n",
    "#despliega el resultado de la funcion\n",
    "print('Se ingresaron los valores ',mitupla)\n",
    "print('Los promedios son : ',salidatupla)"
   ]
  },
  {
   "cell_type": "code",
   "execution_count": null,
   "id": "c9da29eb-9e39-4329-81b2-2308dd209761",
   "metadata": {},
   "outputs": [],
   "source": []
  },
  {
   "cell_type": "code",
   "execution_count": null,
   "id": "a5e9bd81-b6ca-49d5-9bbd-9e04399af524",
   "metadata": {},
   "outputs": [],
   "source": []
  }
 ],
 "metadata": {
  "kernelspec": {
   "display_name": "Python 3 (ipykernel)",
   "language": "python",
   "name": "python3"
  },
  "language_info": {
   "codemirror_mode": {
    "name": "ipython",
    "version": 3
   },
   "file_extension": ".py",
   "mimetype": "text/x-python",
   "name": "python",
   "nbconvert_exporter": "python",
   "pygments_lexer": "ipython3",
   "version": "3.9.7"
  }
 },
 "nbformat": 4,
 "nbformat_minor": 5
}
